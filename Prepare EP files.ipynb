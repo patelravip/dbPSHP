{
 "cells": [
  {
   "cell_type": "code",
   "execution_count": 10,
   "metadata": {
    "collapsed": true
   },
   "outputs": [],
   "source": [
    "from __future__ import division\n",
    "import os\n",
    "import sys\n",
    "import time\n",
    "\n",
    "from glob import glob\n",
    "from multiprocessing import Manager,Process\n",
    "from Queue import Empty\n",
    "\n",
    "from Bio import SeqIO\n",
    "from dendropy import Tree\n",
    "\n",
    "from IPython.display import display\n",
    "from ipywidgets import *"
   ]
  },
  {
   "cell_type": "code",
   "execution_count": 20,
   "metadata": {
    "collapsed": true
   },
   "outputs": [],
   "source": [
    "class Worker(Process):\n",
    "    \n",
    "    def __init__(self, iq, *args, **kwargs):\n",
    "        super(Worker, self).__init__(*args, **kwargs)\n",
    "        \n",
    "        self.iq = iq\n",
    "        self.outDir = '/DATA/raw/dbpshp/EP'\n",
    "        trees = glob('/DATA/raw/seqsim/noncoding/trees/Mammals/lower/*.nwk'.format(TAXA))\n",
    "        self.ts = {}\n",
    "        for t in trees:\n",
    "            self.ts[os.path.basename(t).replace('.nwk','')] = Tree.get(path=t, schema='newick')\n",
    "    \n",
    "    def start(self):\n",
    "        print 'Start. {}'.format(self.name)\n",
    "        sys.stdout.flush()\n",
    "        super(Worker, self).start()\n",
    "    \n",
    "    def terminate(self):\n",
    "        print 'Terminate. {}'.format(self.name)\n",
    "        sys.stdout.flush()\n",
    "        super(Worker, self).terminate()\n",
    "    \n",
    "    def run(self):\n",
    "        while True:\n",
    "            try:\n",
    "                task = self.iq.get(False)\n",
    "                self.process_task(task)\n",
    "            except Empty:\n",
    "                print 'Done. {}'.format(self.name)\n",
    "                sys.stdout.flush()\n",
    "                break\n",
    "    \n",
    "    def process_task(self, fasta):\n",
    "        gene = os.path.basename(fasta).split('.')[0]\n",
    "        geneDir = os.path.join(self.outDir, gene)\n",
    "        try:\n",
    "            os.makedirs(geneDir)\n",
    "        except OSError:\n",
    "            pass\n",
    "        \n",
    "        for d in ['trees','seqs','AS']:\n",
    "            try:\n",
    "                os.makedirs(os.path.join(geneDir,d))\n",
    "            except OSError:\n",
    "                pass\n",
    "        \n",
    "        for t in self.ts:\n",
    "            self.ts[t].write(path=os.path.join(geneDir,'trees','{}.nwk'.format(t)), schema='newick')\n",
    "        \n",
    "        bs = SeqIO.to_dict(SeqIO.parse(fasta, 'fasta'))\n",
    "        for t in self.ts:\n",
    "            ff = os.path.join(geneDir,'seqs','{}.fas'.format(t))\n",
    "            taxa = self.ts[t].taxon_namespace.labels()\n",
    "            keep = []\n",
    "            for spp in taxa:\n",
    "                keep.append(bs[spp])\n",
    "            SeqIO.write(keep, ff, 'fasta')"
   ]
  },
  {
   "cell_type": "code",
   "execution_count": 21,
   "metadata": {
    "collapsed": false
   },
   "outputs": [
    {
     "name": "stdout",
     "output_type": "stream",
     "text": [
      "24060\n"
     ]
    }
   ],
   "source": [
    "alns = glob('/DATA/raw/EP/max/dbpshp_alignments/*.fasta')\n",
    "print len(alns)"
   ]
  },
  {
   "cell_type": "code",
   "execution_count": 22,
   "metadata": {
    "collapsed": false
   },
   "outputs": [
    {
     "name": "stdout",
     "output_type": "stream",
     "text": [
      "Start. Worker-2\n",
      "Start. Worker-3\n",
      "Start. Worker-4\n",
      "Start. Worker-5\n",
      "Start. Worker-6\n",
      "Start. Worker-7\n",
      "Start. Worker-8\n",
      "Start. Worker-9\n",
      "Start. Worker-10\n",
      "Start. Worker-11\n",
      "Start. Worker-12\n",
      "Start. Worker-13\n",
      "Start. Worker-14\n",
      "Start. Worker-15\n",
      "Start. Worker-16\n",
      "Start. Worker-17\n",
      "Done. Worker-10\n",
      "Done. Worker-8\n",
      "Done. Worker-2\n",
      "Done. Worker-6\n",
      "Done. Worker-4\n",
      "Done. Worker-15\n",
      "Done. Worker-13\n",
      "Done. Worker-17\n",
      "Done. Worker-3\n",
      "Done. Worker-9\n",
      "Done. Worker-12\n",
      "Done. Worker-7\n",
      "Done. Worker-5\n",
      "Done. Worker-16\n",
      "Done. Worker-11\n",
      "Done. Worker-14\n",
      "Done.\n",
      "CPU times: user 836 ms, sys: 176 ms, total: 1.01 s\n",
      "Wall time: 3min 1s\n"
     ]
    }
   ],
   "source": [
    "%%time\n",
    "\n",
    "m = Manager()\n",
    "q = m.Queue()\n",
    "\n",
    "for i in alns:\n",
    "    q.put(i)\n",
    "\n",
    "## Widgets\n",
    "pb = IntProgress(width='800px')\n",
    "pb.max = q.qsize()\n",
    "ph = HTML()\n",
    "ps = HTML()\n",
    "eta = HTML()\n",
    "display(pb, ph, ps, eta)\n",
    "\n",
    "## Start workers\n",
    "numWorkers = 16\n",
    "workers = [Worker(q) for i in range(numWorkers)]\n",
    "[p.start() for p in workers];\n",
    "sys.stdout.flush()\n",
    "\n",
    "SLEEP = 2\n",
    "lastValue = 0\n",
    "startTime = time.time()\n",
    "while True:\n",
    "    time.sleep(SLEEP)\n",
    "    if q.empty():\n",
    "        break\n",
    "    if sum([p.is_alive() for p in workers]) == 0:\n",
    "        break\n",
    "    pb.value = pb.max - q.qsize()\n",
    "    ph.value = '{:>5d} / {:<5d}'.format(pb.value, pb.max)\n",
    "#     diff = pb.value - lastValue\n",
    "#     lastValue = pb.value\n",
    "#     ps.value = 'Avg. tasks/second: {:.2f}'.format(diff / SLEEP)\n",
    "    tps = pb.value / (time.time()-startTime)\n",
    "    ps.value = 'Avg. tasks/minute: {:.2f}'.format(tps*60)\n",
    "#     if diff > 0:\n",
    "    if tps > 0:\n",
    "        remaining = pb.max - pb.value\n",
    "#         m, s = divmod(int(remaining / (diff / SLEEP)), 60)\n",
    "        m,s = divmod(int(remaining/tps),60)\n",
    "        h, m = divmod(m, 60)\n",
    "        eta.value = 'Est. Time:         %d:%02d:%02d' % (h, m, s)\n",
    "        \n",
    "pb.value = pb.max - q.qsize()\n",
    "ph.value = '{:>5d} / {:<5d}'.format(pb.value, pb.max)\n",
    "## Join\n",
    "[p.join() for p in workers];\n",
    "\n",
    "print 'Done.'\n",
    "sys.stdout.flush()\n",
    "\n",
    "pb.color = '#00ff00'"
   ]
  },
  {
   "cell_type": "code",
   "execution_count": null,
   "metadata": {
    "collapsed": true
   },
   "outputs": [],
   "source": []
  }
 ],
 "metadata": {
  "kernelspec": {
   "display_name": "Python 2",
   "language": "python",
   "name": "python2"
  },
  "language_info": {
   "codemirror_mode": {
    "name": "ipython",
    "version": 2
   },
   "file_extension": ".py",
   "mimetype": "text/x-python",
   "name": "python",
   "nbconvert_exporter": "python",
   "pygments_lexer": "ipython2",
   "version": "2.7.6"
  },
  "widgets": {
   "state": {
    "6f0cc74a94c64274b98771c6c7e53df3": {
     "views": [
      {
       "cell_index": 3
      }
     ]
    },
    "734604284c9a44a7a16bcc74060c97cb": {
     "views": []
    },
    "919b696e9fa2432c971bf3bdb49c6f2f": {
     "views": []
    },
    "9a6829f63aed47c08386d0d23f57b66e": {
     "views": [
      {
       "cell_index": 3
      }
     ]
    },
    "9f07e5061788428d8c064e82c1d0d5d4": {
     "views": []
    },
    "aeaf8bfc78ec4d089b6973a94a698ecf": {
     "views": [
      {
       "cell_index": 3
      }
     ]
    },
    "cf32a24111424d6087c74705d099009d": {
     "views": [
      {
       "cell_index": 3
      }
     ]
    },
    "d355e2f0a38c430a8396be31a1d33847": {
     "views": []
    }
   },
   "version": "1.1.2"
  }
 },
 "nbformat": 4,
 "nbformat_minor": 0
}
