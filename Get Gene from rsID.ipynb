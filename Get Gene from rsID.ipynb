{
 "cells": [
  {
   "cell_type": "code",
   "execution_count": 1,
   "metadata": {
    "collapsed": true
   },
   "outputs": [],
   "source": [
    "from __future__ import division\n",
    "import os\n",
    "import sys\n",
    "\n",
    "from datetime import datetime\n",
    "from functools import partial\n",
    "import re\n",
    "import time\n",
    "\n",
    "import numpy as np\n",
    "import pandas as pd\n",
    "\n",
    "from Bio import Entrez\n",
    "Entrez.email = \"patel.ravip@temple.edu\"\n",
    "\n",
    "from IPython.display import display\n",
    "from ipywidgets import *"
   ]
  },
  {
   "cell_type": "code",
   "execution_count": 2,
   "metadata": {
    "collapsed": true
   },
   "outputs": [],
   "source": [
    "genePattern = re.compile(r\"\"\"GENE=([A-Z0-9,:\\-]+)\"\"\")"
   ]
  },
  {
   "cell_type": "code",
   "execution_count": 3,
   "metadata": {
    "collapsed": true
   },
   "outputs": [],
   "source": [
    "df = pd.read_csv('/DATA/raw/dbpshp/unique_snps_rsids.txt', header=None, names=['chrom','chrom_pos','rsid'], sep='\\t')"
   ]
  },
  {
   "cell_type": "code",
   "execution_count": 4,
   "metadata": {
    "collapsed": false
   },
   "outputs": [],
   "source": [
    "rsid = 'rs78370858'"
   ]
  },
  {
   "cell_type": "code",
   "execution_count": 5,
   "metadata": {
    "collapsed": false
   },
   "outputs": [],
   "source": [
    "def get_gene(row):\n",
    "    time.sleep(0.34)\n",
    "    rsid = row['rsid']\n",
    "    rs = rsid.strip('rs')\n",
    "    h = Entrez.esummary(db='SNP', id=rs)\n",
    "    r = Entrez.read(h)\n",
    "    h.close()\n",
    "    \n",
    "    try:\n",
    "        data = r[0]\n",
    "    except KeyboardInterrupt:\n",
    "        raise\n",
    "    except:\n",
    "        return (row['chrom'],row['chrom_pos'],row['rsid'],np.nan,np.nan)       \n",
    "        \n",
    "    fx = data['FXN_CLASS']\n",
    "    summary = data['DOCSUM']\n",
    "    res = genePattern.search(summary)\n",
    "    try:\n",
    "        entries = res.groups()[0].split(\",\")\n",
    "        genes = \",\".join([i.split(\":\")[0] for i in entries])\n",
    "    except KeyboardInterrupt:\n",
    "        raise\n",
    "    except:\n",
    "        return (row['chrom'],row['chrom_pos'],row['rsid'],np.nan,np.nan)\n",
    "    else:\n",
    "        return (row['chrom'],row['chrom_pos'],row['rsid'],genes,fx)"
   ]
  },
  {
   "cell_type": "code",
   "execution_count": 6,
   "metadata": {
    "collapsed": false
   },
   "outputs": [
    {
     "name": "stdout",
     "output_type": "stream",
     "text": [
      "Starting: Apr 10, 2017 16:36:29\n",
      "Done: Apr 10, 2017 19:29:27\n",
      "CPU times: user 2min 7s, sys: 20.8 s, total: 2min 28s\n",
      "Wall time: 2h 52min 58s\n"
     ]
    }
   ],
   "source": [
    "%%time\n",
    "pb = IntProgress(width='800px')\n",
    "pb.value = 0\n",
    "pb.max = df.shape[0]\n",
    "ph = HTML('{} / {}'.format(pb.value,pb.max))\n",
    "display(pb,ph)\n",
    "\n",
    "print 'Starting: {}'.format(datetime.now().strftime('%b %d, %Y %H:%M:%S'))\n",
    "\n",
    "with open('/DATA/raw/dbpshp/snp_annot.txt', 'w') as fh:\n",
    "    for ix,row in df.iterrows():\n",
    "        try:\n",
    "            res = get_gene(row)\n",
    "            fh.write('{}\\n'.format('\\t'.join(map(str,res))))\n",
    "        except KeyboardInterrupt:\n",
    "            raise\n",
    "        except:\n",
    "            continue\n",
    "        finally:\n",
    "            pb.value += 1\n",
    "            ph.value = '{} / {}'.format(pb.value, pb.max)\n",
    "            \n",
    "print 'Done: {}'.format(datetime.now().strftime('%b %d, %Y %H:%M:%S'))"
   ]
  },
  {
   "cell_type": "code",
   "execution_count": 7,
   "metadata": {
    "collapsed": false
   },
   "outputs": [
    {
     "data": {
      "text/html": [
       "<div>\n",
       "<table border=\"1\" class=\"dataframe\">\n",
       "  <thead>\n",
       "    <tr style=\"text-align: right;\">\n",
       "      <th></th>\n",
       "      <th>chrom</th>\n",
       "      <th>chrom_pos</th>\n",
       "      <th>rsid</th>\n",
       "    </tr>\n",
       "  </thead>\n",
       "  <tbody>\n",
       "    <tr>\n",
       "      <th>0</th>\n",
       "      <td>1</td>\n",
       "      <td>864938</td>\n",
       "      <td>rs78370858</td>\n",
       "    </tr>\n",
       "    <tr>\n",
       "      <th>1</th>\n",
       "      <td>1</td>\n",
       "      <td>1140435</td>\n",
       "      <td>rs1815606</td>\n",
       "    </tr>\n",
       "    <tr>\n",
       "      <th>2</th>\n",
       "      <td>1</td>\n",
       "      <td>1209636</td>\n",
       "      <td>rs3737722</td>\n",
       "    </tr>\n",
       "    <tr>\n",
       "      <th>3</th>\n",
       "      <td>1</td>\n",
       "      <td>1210471</td>\n",
       "      <td>rs11260577</td>\n",
       "    </tr>\n",
       "    <tr>\n",
       "      <th>4</th>\n",
       "      <td>1</td>\n",
       "      <td>1211292</td>\n",
       "      <td>rs6685064</td>\n",
       "    </tr>\n",
       "  </tbody>\n",
       "</table>\n",
       "</div>"
      ],
      "text/plain": [
       "   chrom  chrom_pos        rsid\n",
       "0      1     864938  rs78370858\n",
       "1      1    1140435   rs1815606\n",
       "2      1    1209636   rs3737722\n",
       "3      1    1210471  rs11260577\n",
       "4      1    1211292   rs6685064"
      ]
     },
     "execution_count": 7,
     "metadata": {},
     "output_type": "execute_result"
    }
   ],
   "source": [
    "df.head()"
   ]
  },
  {
   "cell_type": "code",
   "execution_count": 8,
   "metadata": {
    "collapsed": false
   },
   "outputs": [
    {
     "data": {
      "text/html": [
       "<div>\n",
       "<table border=\"1\" class=\"dataframe\">\n",
       "  <thead>\n",
       "    <tr style=\"text-align: right;\">\n",
       "      <th></th>\n",
       "      <th>chrom</th>\n",
       "      <th>chrom_pos</th>\n",
       "      <th>rsid</th>\n",
       "    </tr>\n",
       "  </thead>\n",
       "  <tbody>\n",
       "    <tr>\n",
       "      <th>10146</th>\n",
       "      <td>5</td>\n",
       "      <td>119683684</td>\n",
       "      <td>rs10058597</td>\n",
       "    </tr>\n",
       "    <tr>\n",
       "      <th>10147</th>\n",
       "      <td>5</td>\n",
       "      <td>119686188</td>\n",
       "      <td>rs6863052</td>\n",
       "    </tr>\n",
       "    <tr>\n",
       "      <th>10148</th>\n",
       "      <td>5</td>\n",
       "      <td>119697716</td>\n",
       "      <td>rs6896794</td>\n",
       "    </tr>\n",
       "  </tbody>\n",
       "</table>\n",
       "</div>"
      ],
      "text/plain": [
       "       chrom  chrom_pos        rsid\n",
       "10146      5  119683684  rs10058597\n",
       "10147      5  119686188   rs6863052\n",
       "10148      5  119697716   rs6896794"
      ]
     },
     "execution_count": 8,
     "metadata": {},
     "output_type": "execute_result"
    }
   ],
   "source": [
    "df.ix[10146:10148]"
   ]
  },
  {
   "cell_type": "code",
   "execution_count": null,
   "metadata": {
    "collapsed": true
   },
   "outputs": [],
   "source": []
  }
 ],
 "metadata": {
  "kernelspec": {
   "display_name": "Python 2",
   "language": "python",
   "name": "python2"
  },
  "language_info": {
   "codemirror_mode": {
    "name": "ipython",
    "version": 2
   },
   "file_extension": ".py",
   "mimetype": "text/x-python",
   "name": "python",
   "nbconvert_exporter": "python",
   "pygments_lexer": "ipython2",
   "version": "2.7.6"
  },
  "widgets": {
   "state": {
    "0e87d6b8f1ce4e6ba9d05ad2ce56e7a4": {
     "views": []
    },
    "2e78ca42c5de42a691701582167e828f": {
     "views": []
    },
    "7ac6c36330af4a3a816d1d944147c4cf": {
     "views": [
      {
       "cell_index": 5
      }
     ]
    },
    "9fecdf070efa4161ad51362d96dbccc8": {
     "views": [
      {
       "cell_index": 5
      }
     ]
    }
   },
   "version": "1.1.2"
  }
 },
 "nbformat": 4,
 "nbformat_minor": 0
}
